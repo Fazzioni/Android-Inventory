{
  "nbformat": 4,
  "nbformat_minor": 0,
  "metadata": {
    "colab": {
      "provenance": [],
      "include_colab_link": true
    },
    "kernelspec": {
      "name": "python3",
      "display_name": "Python 3"
    },
    "language_info": {
      "name": "python"
    }
  },
  "cells": [
    {
      "cell_type": "markdown",
      "metadata": {
        "id": "view-in-github",
        "colab_type": "text"
      },
      "source": [
        "<a href=\"https://colab.research.google.com/github/Fazzioni/Android-Inventory/blob/main/Teste.ipynb\" target=\"_parent\"><img src=\"https://colab.research.google.com/assets/colab-badge.svg\" alt=\"Open In Colab\"/></a>"
      ]
    },
    {
      "cell_type": "code",
      "execution_count": null,
      "metadata": {
        "id": "BJT-lVFXD2z5"
      },
      "outputs": [],
      "source": [
        "# instalando  a extensão da OpenAI\n",
        "!pip install openai"
      ]
    },
    {
      "cell_type": "code",
      "source": [
        "from openai import OpenAI\n",
        "import getpass\n",
        "\n",
        "# criando uma instância com a API para utilizar a key\n",
        "api_key =  getpass.getpass(\"Enter your OpenAI API key: \")\n",
        "client = OpenAI(api_key=api_key)"
      ],
      "metadata": {
        "id": "NxlEAS1QD4Dx"
      },
      "execution_count": null,
      "outputs": []
    },
    {
      "cell_type": "code",
      "source": [
        "# listando os modelos disponíveis\n",
        "for model in client.models.list():\n",
        "    print(model.id)"
      ],
      "metadata": {
        "id": "x7p8nn_SEIMB"
      },
      "execution_count": null,
      "outputs": []
    },
    {
      "cell_type": "code",
      "source": [
        "# gerando um pequeno chat para testes\n",
        "response = client.chat.completions.create( messages=[{\"role\": \"user\", \"content\": 'Olá, tudo bem? estou fazendo um pequeno teste, ok?'}], model=\"gpt-4o-mini\")\n",
        "print( response.choices[0].message.content )"
      ],
      "metadata": {
        "id": "z8by3p8hD_Qf"
      },
      "execution_count": null,
      "outputs": []
    }
  ]
}